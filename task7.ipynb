{
 "cells": [
  {
   "cell_type": "markdown",
   "metadata": {},
   "source": [
    "# task 7"
   ]
  },
  {
   "cell_type": "code",
   "execution_count": 35,
   "metadata": {},
   "outputs": [
    {
     "name": "stdout",
     "output_type": "stream",
     "text": [
      "num1 : 9\n",
      "num2 : 5\n",
      "add,sub,multi,div_by_press_1,2,3,4: 6\n",
      "error\n"
     ]
    }
   ],
   "source": [
    "a = input( \"num1 : \")\n",
    "b = input( \"num2 : \")\n",
    "c = int(a)+int(b)\n",
    "d = int(a)-int(b)\n",
    "e = int(a)*int(b)\n",
    "f = int(a)/int(b)\n",
    "press = int(input(\"add,sub,multi,div_by_press_1,2,3,4: \"))\n",
    "if(press>int(2)):\n",
    "    if(press == int(3)):\n",
    "        print(e)\n",
    "    elif(press == int(4)):\n",
    "        print(f)\n",
    "    else:\n",
    "        print(\"error\")\n",
    "elif(press == int(2)):\n",
    "    print(d)\n",
    "else:\n",
    "    print(c)"
   ]
  },
  {
   "cell_type": "markdown",
   "metadata": {},
   "source": []
  },
  {
   "cell_type": "code",
   "execution_count": null,
   "metadata": {},
   "outputs": [],
   "source": []
  }
 ],
 "metadata": {
  "kernelspec": {
   "display_name": "Python 3",
   "language": "python",
   "name": "python3"
  },
  "language_info": {
   "codemirror_mode": {
    "name": "ipython",
    "version": 3
   },
   "file_extension": ".py",
   "mimetype": "text/x-python",
   "name": "python",
   "nbconvert_exporter": "python",
   "pygments_lexer": "ipython3",
   "version": "3.7.6"
  }
 },
 "nbformat": 4,
 "nbformat_minor": 4
}
